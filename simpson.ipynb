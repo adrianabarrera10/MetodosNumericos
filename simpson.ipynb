{
  "nbformat": 4,
  "nbformat_minor": 0,
  "metadata": {
    "colab": {
      "name": "simpson",
      "provenance": [],
      "collapsed_sections": [],
      "authorship_tag": "ABX9TyPI9/a/H1kJcxudfg8TEvxV",
      "include_colab_link": true
    },
    "kernelspec": {
      "name": "python3",
      "display_name": "Python 3"
    }
  },
  "cells": [
    {
      "cell_type": "markdown",
      "metadata": {
        "id": "view-in-github",
        "colab_type": "text"
      },
      "source": [
        "<a href=\"https://colab.research.google.com/github/adrianabarrera10/MetodosNumericos/blob/master/simpson.ipynb\" target=\"_parent\"><img src=\"https://colab.research.google.com/assets/colab-badge.svg\" alt=\"Open In Colab\"/></a>"
      ]
    },
    {
      "cell_type": "code",
      "metadata": {
        "id": "5zXQzwkR-mek",
        "colab_type": "code",
        "colab": {
          "base_uri": "https://localhost:8080/",
          "height": 34
        },
        "outputId": "aaedf0e7-c090-446f-ad66-333a189114ae"
      },
      "source": [
        "#!/usr/bin/env python\n",
        "# -*- coding: utf-8 -*-\n",
        "\n",
        "#Importamos math\n",
        "from math import *\n",
        "\n",
        "\n",
        "#Definimos la funcion\n",
        "#@ n: numero de x\n",
        "#@ a y b los intervalos de la integral\n",
        "#@ f: La funcion a integrar\n",
        "def simpson13(n, a, b, f):\n",
        "    #calculamos h\n",
        "    h = (b - a) / n\n",
        "    #Inicializamos nuestra varible donde se almacenara las sumas\n",
        "    suma = 0.0\n",
        "    #hacemos un ciclo para ir sumando las areas\n",
        "    for i in range(1, n):\n",
        "        #calculamos la x\n",
        "        #x = a - h + (2 * h * i)\n",
        "        x = a + i * h\n",
        "        # si es par se multiplica por 4\n",
        "        if(i % 2 == 0):\n",
        "            suma = suma + 2 * fx(x, f)\n",
        "        #en caso contrario se multiplica por 2\n",
        "        else:\n",
        "            suma = suma + 4 * fx(x, f)\n",
        "    #sumamos los el primer elemento y el ultimo\n",
        "    suma = suma + fx(a, f) + fx(b, f)\n",
        "    #Multiplicamos por h/3\n",
        "    rest = suma * (h / 3)\n",
        "    #Retornamos el resultado\n",
        "    return (rest)\n",
        "\n",
        "#Funcion que nos ayuda a evaluar las funciones\n",
        "def fx(x, f):\n",
        "    return eval(f)\n",
        "\n",
        "#valores de ejemplo para la funcion 1-e^-(x) con intervalos de\n",
        "n = 3\n",
        "a = 0.0\n",
        "b = 3.14/2\n",
        "f = '8+4*sin(x)'\n",
        "\n",
        "print(simpson13(n, a, b, f))"
      ],
      "execution_count": 63,
      "outputs": [
        {
          "output_type": "stream",
          "text": [
            "14.465351841247829\n"
          ],
          "name": "stdout"
        }
      ]
    }
  ]
}